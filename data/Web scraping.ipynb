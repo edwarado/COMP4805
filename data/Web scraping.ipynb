{
 "cells": [
  {
   "cell_type": "markdown",
   "id": "39af8a4f",
   "metadata": {},
   "source": [
    "\n",
    "The project duration will be from September 2022 to December 2022. I will use Python to extract the data from Google news, including headings, passage and publication date, and download the historical bitcoin price from January 2017 to August 2022 on Yahoo Finance. For the language of the news, English news will only be used for the convenience to analyse the text. For the data cleaning part, incorrectly formatted, duplicate, and incomplete data would be removed within a dataset, especially combining numerous data sources. On top of that, some news websites may well block the program from continuously scrapping the text data. This missing data should also be handled by dropping the observations or inputting the missing values according to other observations. The sentiment score will be obtained using Python natural language processing (NLP) libraries and own analysis. For example, if the text has the words like “bullish”, “optimistic” and “gain”, it will have a positive sentiment score. If the text has the words like “bearish” and “loss”, it will have a negative sentiment score."
   ]
  },
  {
   "cell_type": "markdown",
   "id": "99847be6",
   "metadata": {},
   "source": [
    " "
   ]
  },
  {
   "cell_type": "markdown",
   "id": "5b603694",
   "metadata": {},
   "source": [
    " "
   ]
  },
  {
   "cell_type": "markdown",
   "id": "13f5236b",
   "metadata": {},
   "source": [
    "Install all required libraries including selenium, vaderSentiment, matplotlib and plotly"
   ]
  },
  {
   "cell_type": "code",
   "execution_count": 1,
   "id": "c0b34070",
   "metadata": {},
   "outputs": [
    {
     "name": "stdout",
     "output_type": "stream",
     "text": [
      "Requirement already satisfied: selenium in /Users/apple/opt/anaconda3/lib/python3.9/site-packages (4.4.0)\n",
      "Requirement already satisfied: urllib3[secure,socks]~=1.26 in /Users/apple/opt/anaconda3/lib/python3.9/site-packages (from selenium) (1.26.7)\n",
      "Requirement already satisfied: trio~=0.17 in /Users/apple/opt/anaconda3/lib/python3.9/site-packages (from selenium) (0.21.0)\n",
      "Requirement already satisfied: trio-websocket~=0.9 in /Users/apple/opt/anaconda3/lib/python3.9/site-packages (from selenium) (0.9.2)\n",
      "Requirement already satisfied: outcome in /Users/apple/opt/anaconda3/lib/python3.9/site-packages (from trio~=0.17->selenium) (1.2.0)\n",
      "Requirement already satisfied: sortedcontainers in /Users/apple/opt/anaconda3/lib/python3.9/site-packages (from trio~=0.17->selenium) (2.4.0)\n",
      "Requirement already satisfied: sniffio in /Users/apple/opt/anaconda3/lib/python3.9/site-packages (from trio~=0.17->selenium) (1.2.0)\n",
      "Requirement already satisfied: idna in /Users/apple/opt/anaconda3/lib/python3.9/site-packages (from trio~=0.17->selenium) (3.2)\n",
      "Requirement already satisfied: attrs>=19.2.0 in /Users/apple/opt/anaconda3/lib/python3.9/site-packages (from trio~=0.17->selenium) (21.2.0)\n",
      "Requirement already satisfied: async-generator>=1.9 in /Users/apple/opt/anaconda3/lib/python3.9/site-packages (from trio~=0.17->selenium) (1.10)\n",
      "Requirement already satisfied: wsproto>=0.14 in /Users/apple/opt/anaconda3/lib/python3.9/site-packages (from trio-websocket~=0.9->selenium) (1.1.0)\n",
      "Requirement already satisfied: PySocks!=1.5.7,<2.0,>=1.5.6 in /Users/apple/opt/anaconda3/lib/python3.9/site-packages (from urllib3[secure,socks]~=1.26->selenium) (1.7.1)\n",
      "Requirement already satisfied: pyOpenSSL>=0.14 in /Users/apple/opt/anaconda3/lib/python3.9/site-packages (from urllib3[secure,socks]~=1.26->selenium) (21.0.0)\n",
      "Requirement already satisfied: cryptography>=1.3.4 in /Users/apple/opt/anaconda3/lib/python3.9/site-packages (from urllib3[secure,socks]~=1.26->selenium) (3.4.8)\n",
      "Requirement already satisfied: certifi in /Users/apple/opt/anaconda3/lib/python3.9/site-packages (from urllib3[secure,socks]~=1.26->selenium) (2021.10.8)\n",
      "Requirement already satisfied: cffi>=1.12 in /Users/apple/opt/anaconda3/lib/python3.9/site-packages (from cryptography>=1.3.4->urllib3[secure,socks]~=1.26->selenium) (1.14.6)\n",
      "Requirement already satisfied: pycparser in /Users/apple/opt/anaconda3/lib/python3.9/site-packages (from cffi>=1.12->cryptography>=1.3.4->urllib3[secure,socks]~=1.26->selenium) (2.20)\n",
      "Requirement already satisfied: six>=1.5.2 in /Users/apple/opt/anaconda3/lib/python3.9/site-packages (from pyOpenSSL>=0.14->urllib3[secure,socks]~=1.26->selenium) (1.16.0)\n",
      "Requirement already satisfied: h11<1,>=0.9.0 in /Users/apple/opt/anaconda3/lib/python3.9/site-packages (from wsproto>=0.14->trio-websocket~=0.9->selenium) (0.13.0)\n",
      "Note: you may need to restart the kernel to use updated packages.\n"
     ]
    }
   ],
   "source": [
    "pip install selenium"
   ]
  },
  {
   "cell_type": "code",
   "execution_count": 2,
   "id": "80599237",
   "metadata": {},
   "outputs": [
    {
     "name": "stdout",
     "output_type": "stream",
     "text": [
      "Requirement already satisfied: vaderSentiment in /Users/apple/opt/anaconda3/lib/python3.9/site-packages (3.3.2)\n",
      "Requirement already satisfied: requests in /Users/apple/opt/anaconda3/lib/python3.9/site-packages (from vaderSentiment) (2.26.0)\n",
      "Requirement already satisfied: idna<4,>=2.5 in /Users/apple/opt/anaconda3/lib/python3.9/site-packages (from requests->vaderSentiment) (3.2)\n",
      "Requirement already satisfied: certifi>=2017.4.17 in /Users/apple/opt/anaconda3/lib/python3.9/site-packages (from requests->vaderSentiment) (2021.10.8)\n",
      "Requirement already satisfied: urllib3<1.27,>=1.21.1 in /Users/apple/opt/anaconda3/lib/python3.9/site-packages (from requests->vaderSentiment) (1.26.7)\n",
      "Requirement already satisfied: charset-normalizer~=2.0.0 in /Users/apple/opt/anaconda3/lib/python3.9/site-packages (from requests->vaderSentiment) (2.0.4)\n",
      "Note: you may need to restart the kernel to use updated packages.\n"
     ]
    }
   ],
   "source": [
    "pip install vaderSentiment"
   ]
  },
  {
   "cell_type": "code",
   "execution_count": 3,
   "id": "c4628990",
   "metadata": {},
   "outputs": [
    {
     "name": "stdout",
     "output_type": "stream",
     "text": [
      "Requirement already satisfied: matplotlib in /Users/apple/opt/anaconda3/lib/python3.9/site-packages (3.4.3)\n",
      "Requirement already satisfied: pyparsing>=2.2.1 in /Users/apple/opt/anaconda3/lib/python3.9/site-packages (from matplotlib) (3.0.4)\n",
      "Requirement already satisfied: cycler>=0.10 in /Users/apple/opt/anaconda3/lib/python3.9/site-packages (from matplotlib) (0.10.0)\n",
      "Requirement already satisfied: python-dateutil>=2.7 in /Users/apple/opt/anaconda3/lib/python3.9/site-packages (from matplotlib) (2.8.2)\n",
      "Requirement already satisfied: kiwisolver>=1.0.1 in /Users/apple/opt/anaconda3/lib/python3.9/site-packages (from matplotlib) (1.3.1)\n",
      "Requirement already satisfied: numpy>=1.16 in /Users/apple/opt/anaconda3/lib/python3.9/site-packages (from matplotlib) (1.20.3)\n",
      "Requirement already satisfied: pillow>=6.2.0 in /Users/apple/opt/anaconda3/lib/python3.9/site-packages (from matplotlib) (8.4.0)\n",
      "Requirement already satisfied: six in /Users/apple/opt/anaconda3/lib/python3.9/site-packages (from cycler>=0.10->matplotlib) (1.16.0)\n",
      "Note: you may need to restart the kernel to use updated packages.\n"
     ]
    }
   ],
   "source": [
    "pip install matplotlib\n"
   ]
  },
  {
   "cell_type": "code",
   "execution_count": 4,
   "id": "36b777b9",
   "metadata": {},
   "outputs": [
    {
     "name": "stdout",
     "output_type": "stream",
     "text": [
      "Requirement already satisfied: plotly in /Users/apple/opt/anaconda3/lib/python3.9/site-packages (5.10.0)\n",
      "Requirement already satisfied: tenacity>=6.2.0 in /Users/apple/opt/anaconda3/lib/python3.9/site-packages (from plotly) (8.0.1)\n",
      "Note: you may need to restart the kernel to use updated packages.\n"
     ]
    }
   ],
   "source": [
    "pip install plotly"
   ]
  },
  {
   "cell_type": "markdown",
   "id": "26338de4",
   "metadata": {},
   "source": [
    " "
   ]
  },
  {
   "cell_type": "markdown",
   "id": "e32881cb",
   "metadata": {},
   "source": [
    "\n",
    "Import all required libraries"
   ]
  },
  {
   "cell_type": "code",
   "execution_count": 1,
   "id": "5ee8644e",
   "metadata": {},
   "outputs": [],
   "source": [
    "from bs4 import BeautifulSoup\n",
    "from urllib.request import urlopen\n",
    "\n",
    "#from selenium import webdriver\n",
    "#import webbrowser\n",
    "\n",
    "from selenium.webdriver import Chrome\n",
    "from selenium.webdriver import ActionChains\n",
    "from selenium import webdriver\n",
    "import time\n",
    "\n",
    "\n",
    "from selenium.webdriver.common.by import By\n",
    "from vaderSentiment.vaderSentiment import SentimentIntensityAnalyzer\n",
    "\n",
    "\n",
    "\n",
    "import pandas as pd\n",
    "import plotly.express as px\n",
    "import numpy as np\n",
    "\n",
    "\n",
    "\n",
    "import inspect\n",
    "\n",
    "import matplotlib as mpl\n",
    "import matplotlib.pyplot as plt\n",
    "import seaborn as sns\n",
    "import csv\n"
   ]
  },
  {
   "cell_type": "markdown",
   "id": "9849c804",
   "metadata": {},
   "source": [
    " "
   ]
  },
  {
   "cell_type": "markdown",
   "id": "35ddb6d9",
   "metadata": {},
   "source": [
    " "
   ]
  },
  {
   "cell_type": "markdown",
   "id": "93c9cb37",
   "metadata": {},
   "source": [
    "\n",
    "Read the csv file downloaded from Yahoo Finance (https://finance.yahoo.com/quote/BTC-USD/history?p=BTC-USD)"
   ]
  },
  {
   "cell_type": "code",
   "execution_count": 3,
   "id": "92cb910d",
   "metadata": {},
   "outputs": [],
   "source": [
    "\n",
    "\n",
    "bitcoin_price_monthly = pd.read_csv ('bitcoin_price_monthly.csv')\n",
    "bitcoin_price_weekly = pd.read_csv ('bitcoin_price_weekly.csv')\n",
    "bitcoin_price_daily = pd.read_csv ('bitcoin_price_daily.csv')\n",
    "\n"
   ]
  },
  {
   "cell_type": "markdown",
   "id": "1e0c3289",
   "metadata": {},
   "source": [
    " "
   ]
  },
  {
   "cell_type": "markdown",
   "id": "4f0304b9",
   "metadata": {},
   "source": [
    " "
   ]
  },
  {
   "cell_type": "markdown",
   "id": "0e9322ff",
   "metadata": {},
   "source": [
    "\n",
    "\n",
    "The sentiment_scores() calculates the sentiment score of the text\n",
    "\n",
    "\n"
   ]
  },
  {
   "cell_type": "markdown",
   "id": "e8e4f8d2",
   "metadata": {},
   "source": [
    "The returnmonth() returns the year, month, day from a link"
   ]
  },
  {
   "cell_type": "markdown",
   "id": "31ad3c1a",
   "metadata": {},
   "source": [
    "The updatedate() retzurns the next day"
   ]
  },
  {
   "cell_type": "markdown",
   "id": "decf03ce",
   "metadata": {},
   "source": [
    "The changelink() update the link"
   ]
  },
  {
   "cell_type": "markdown",
   "id": "10c08793",
   "metadata": {},
   "source": [
    "The returnlink() returns a link with a given year, month and day."
   ]
  },
  {
   "cell_type": "code",
   "execution_count": 5,
   "id": "457b53f0",
   "metadata": {},
   "outputs": [],
   "source": [
    "def sentiment_scores(sentence):\n",
    " \n",
    "    sid_obj = SentimentIntensityAnalyzer()\n",
    " \n",
    "    sentiment_dict = sid_obj.polarity_scores(sentence)\n",
    "    \n",
    "    return sentiment_dict['compound']\n",
    "\n",
    "\n",
    "def returnmonth(link):\n",
    "    min_month = 0\n",
    "    min_day = 0\n",
    "    min_year = 0\n",
    "    max_month = 0\n",
    "    max_day = 0\n",
    "    max_year = 0\n",
    "    \n",
    "    min_month = int(link[link.find(\"min%3A\")+6:link.find(\"%2F\")])\n",
    "    min_day = int(link[link.find(\"%2F\")+3:link.find(\"%2F20\", 173)])\n",
    "    min_year = int(link[link.find(\"%2F20\", 173)+3:link.find(\"%2Ccd_max\")])\n",
    "    #max_month = int(link[link.find(\"max%3A\")+6:link.find(\"%2F\", 179)])\n",
    "    #max_day = int(link[link.find(\"%2F\", 179)+3:link.find(\"%2F20\", 185)])\n",
    "    #max_year = int(link[link.find(\"%2F20\", 185)+3:link.find(\"&tbm=nws\")])\n",
    "\n",
    "    \n",
    "    return min_month, min_day, min_year\n",
    "\n",
    "\n",
    "\n",
    "def updatedate(min_month, min_day, min_year, max_month, max_day, max_year):\n",
    "    if min_month == 12 and min_day == 31:\n",
    "        min_monh = 1\n",
    "        max_month = 1\n",
    "        \n",
    "        min_day = 1\n",
    "        max_day = 1 \n",
    "        \n",
    "        min_year = min_year + 1\n",
    "        max_year = max_year + 1\n",
    "        \n",
    "    elif (min_month == 1 or min_month == 3 or min_month == 5 or min_month == 7 or min_month == 8 or min_month == 10 or min_month == 12) and min_day == 31:\n",
    "        min_month = min_month + 1\n",
    "        max_month = max_month + 1\n",
    "        \n",
    "        min_day = 1\n",
    "        max_day = 1 \n",
    "        \n",
    "    elif (min_month == 4 or min_month == 6 or min_month == 9 or min_month == 11) and min_day == 30:\n",
    "        min_month = min_month + 1\n",
    "        max_month = max_month + 1\n",
    "        \n",
    "        min_day = 1\n",
    "        max_day = 1 \n",
    "        \n",
    "    elif min_month == 2 and min_day == 29 and (min_year == 2020 or min_year == 2016 or min_year == 2012 or min_year == 2008):\n",
    "        min_month = min_month + 1\n",
    "        max_month = max_month + 1\n",
    "        \n",
    "        min_day = 1\n",
    "        max_day = 1 \n",
    "        \n",
    "    elif min_month == 2 and min_day == 28:\n",
    "        min_month = min_month + 1\n",
    "        max_month = max_month + 1\n",
    "        \n",
    "        min_day = 1\n",
    "        max_day = 1 \n",
    "    \n",
    "    else:\n",
    "        min_day = min_day + 1\n",
    "        max_day = max_day + 1\n",
    "        \n",
    "    return str(min_month), str(min_day), str(min_year), str(max_month), str(max_day), str(max_year)\n",
    "\n",
    "\n",
    "def changelink(link):\n",
    "\n",
    "\n",
    "    month = int(link[link.find(\"min%3A\")+6:link.find(\"%2F\")])\n",
    "    day = int(link[link.find(\"%2F\")+3:link.find(\"%2F20\", 173)])\n",
    "    year = int(link[link.find(\"%2F20\", 173)+3:link.find(\"%2Ccd_max\")])\n",
    "    #max_month = int(link[link.find(\"max%3A\")+6:link.find(\"%2F\", 179)])\n",
    "    #max_day = int(link[link.find(\"%2F\", 179)+3:link.find(\"%2F20\", 185)])\n",
    "    #max_year = int(link[link.find(\"%2F20\", 185)+3:link.find(\"&tbm=nws\")])\n",
    "    \n",
    "    \n",
    "    result = \"https://www.google.com/search?q=bitcoin&lr=lang_en&hl=en-US&biw=1440&bih=706&sxsrf=ALiCzsaLHN0RAHh1o4D2QSeTTNQeMdakdw%3A1660888361013&source=lnt&tbs=cdr%3A1%2Ccd_min%3A\" + updatedate(month, day, year, month,day, year)[0] + \"%2F\" + updatedate(month, day, year, month, day, year)[1]+ \"%2F\"+ updatedate(month, day, year, month, day, year)[2] +\"%2Ccd_max%3A\"+ updatedate(month, day, year, month, day, year)[3] + \"%2F\"+ updatedate(month, day, year, month, day, year)[4] + \"%2F\"+ updatedate(month, day, year, month, day, year)[5] + \"&tbm=nws\"\n",
    "    \n",
    "    return result\n",
    "\n",
    "def returnlink(month, day, year):\n",
    "    result = \"https://www.google.com/search?q=bitcoin&lr=lang_en&hl=en-US&biw=1440&bih=706&sxsrf=ALiCzsZ-yYrB04X2_aorDONhp1sBBArpwQ%3A1660887991435&source=lnt&tbs=cdr%3A1%2Ccd_min%3A\"+str(month)+\"%2F\"+str(day)+\"%2F\"+str(year)+\"%2Ccd_max%3A\"+str(month)+\"%2F\"+str(day)+\"%2F\"+str(year)+\"&tbm=nws\"\n",
    "    \n",
    "    return result\n",
    "\n"
   ]
  },
  {
   "cell_type": "markdown",
   "id": "c5bab86a",
   "metadata": {},
   "source": [
    " "
   ]
  },
  {
   "cell_type": "markdown",
   "id": "ea8b1791",
   "metadata": {},
   "source": [
    " "
   ]
  },
  {
   "cell_type": "markdown",
   "id": "6f9b2593",
   "metadata": {},
   "source": [
    "It will build the list"
   ]
  },
  {
   "cell_type": "code",
   "execution_count": 11,
   "id": "87d8ecfb",
   "metadata": {},
   "outputs": [],
   "source": [
    "headline_list = []\n",
    "day_list = []\n",
    "day_list_2 = []\n",
    "year_list = []\n",
    "month_list = []\n",
    "month_list_2 = []\n",
    "sentiment_list = []\n",
    "link_list = []\n",
    "\n",
    "\n",
    "year_month_list = []\n",
    "year_month_day_list = []\n",
    "\n"
   ]
  },
  {
   "cell_type": "markdown",
   "id": "c0586ed9",
   "metadata": {},
   "source": [
    " "
   ]
  },
  {
   "cell_type": "markdown",
   "id": "d18c27de",
   "metadata": {},
   "source": [
    " "
   ]
  },
  {
   "cell_type": "markdown",
   "id": "41edad32",
   "metadata": {},
   "source": [
    "\n",
    "It will open an automated Google Chrome browser"
   ]
  },
  {
   "cell_type": "code",
   "execution_count": 12,
   "id": "b4a6590c",
   "metadata": {},
   "outputs": [
    {
     "name": "stderr",
     "output_type": "stream",
     "text": [
      "/var/folders/mr/lclw3hlj0zs374kh0pvrp2zm0000gn/T/ipykernel_3108/801403462.py:1: DeprecationWarning: executable_path has been deprecated, please pass in a Service object\n",
      "  driver = Chrome('./chromedriver')\n"
     ]
    }
   ],
   "source": [
    "\n",
    "driver = Chrome('./chromedriver')\n"
   ]
  },
  {
   "cell_type": "markdown",
   "id": "596b2213",
   "metadata": {},
   "source": [
    " "
   ]
  },
  {
   "cell_type": "markdown",
   "id": "1791d779",
   "metadata": {},
   "source": [
    " "
   ]
  },
  {
   "cell_type": "markdown",
   "id": "51b855d9",
   "metadata": {},
   "source": [
    "\n",
    "It will web scrap the news title, publication date and news link from Google. It will start from 2017/1/1 to 2022/08/31. However, the programme may not be able to bypass the captcha test.\n"
   ]
  },
  {
   "cell_type": "code",
   "execution_count": 21,
   "id": "d3a3ccd3",
   "metadata": {},
   "outputs": [
    {
     "name": "stderr",
     "output_type": "stream",
     "text": [
      "/var/folders/mr/lclw3hlj0zs374kh0pvrp2zm0000gn/T/ipykernel_3108/3548259835.py:8: DeprecationWarning: executable_path has been deprecated, please pass in a Service object\n",
      "  driver = Chrome('./chromedriver')\n"
     ]
    },
    {
     "name": "stdout",
     "output_type": "stream",
     "text": [
      "done\n"
     ]
    }
   ],
   "source": [
    "\n",
    "\n",
    "#start from 2017/1/1\n",
    "\n",
    "\n",
    "\n",
    "nex_page_link = \"\"\n",
    "\n",
    "year = 2017\n",
    "month = 1\n",
    "day = 1\n",
    "\n",
    "page = 10\n",
    "\n",
    "\n",
    "link = returnlink(month, day, year)\n",
    "\n",
    "\n",
    "for j in range(0, page):\n",
    "    \n",
    "    month = returnmonth(link)[0]\n",
    "    day = returnmonth(link)[1]\n",
    "    year = returnmonth(link)[2]\n",
    "\n",
    "    driver.get(link)\n",
    "    bs = BeautifulSoup(driver.page_source, 'html.parser')\n",
    "\n",
    "    search_result_list = bs.find_all('div', {\"class\": \"vJOb1e aIfcHf Hw13jc\"})\n",
    "    search_result_list_2 = bs.find_all('td', {\"class\": \"d6cvqb BBwThe\"})\n",
    "    search_result_list_3 = bs.find_all('a', {'class':'WlydOe'})\n",
    "    \n",
    "    time.sleep(1)\n",
    "\n",
    "\n",
    "    for i in range(0, len(search_result_list)):\n",
    "        headline_list.append(search_result_list[i].find('div', {\"class\": \"mCBkyc y355M ynAwRc MBeuO nDgy9d\"}).get_text())\n",
    "        link_list.append(search_result_list_3[i].get('href'))\n",
    "        month_list.append(month)\n",
    "        day_list.append(day)\n",
    "        year_list.append(year)\n",
    "        \n",
    "    \n",
    "    ##working \n",
    "    while str(search_result_list_2).find(\"pnnext\") != -1:\n",
    "        next_page_link = str(\"https://www.google.com\" + search_result_list_2[-1].find(\"a\", {\"id\": \"pnnext\"}).get('href'))\n",
    "        driver.get(next_page_link)\n",
    "        bs = BeautifulSoup(driver.page_source, 'html.parser')\n",
    "        search_result_list = bs.find_all('div', {\"class\": \"vJOb1e aIfcHf Hw13jc\"})\n",
    "        search_result_list_2 = bs.find_all('td', {\"class\": \"d6cvqb BBwThe\"})\n",
    "        search_result_list_3 = bs.find_all('a', {'class':'WlydOe'})\n",
    "        \n",
    "        for k in range(0, len(search_result_list)):\n",
    "            headline_list.append(search_result_list[k].find('div', {\"class\": \"mCBkyc y355M ynAwRc MBeuO nDgy9d\"}).get_text())\n",
    "            link_list.append(search_result_list_3[k].get('href'))\n",
    "            month_list.append(month)\n",
    "            day_list.append(day)\n",
    "            year_list.append(year)\n",
    "        \n",
    "        #time.sleep(3)\n",
    "        \n",
    "    link = changelink(link)\n",
    "    \n",
    "print('done')\n",
    "    \n",
    "\n",
    "\n",
    "\n",
    "    \n"
   ]
  },
  {
   "cell_type": "markdown",
   "id": "69fd669a",
   "metadata": {},
   "source": [
    " "
   ]
  },
  {
   "cell_type": "markdown",
   "id": "1f4ff21b",
   "metadata": {},
   "source": [
    " "
   ]
  },
  {
   "cell_type": "markdown",
   "id": "ccfe5eaa",
   "metadata": {},
   "source": [
    "\n",
    "It will clean the data and add the sentiment score."
   ]
  },
  {
   "cell_type": "code",
   "execution_count": 22,
   "id": "8a1213f0",
   "metadata": {},
   "outputs": [],
   "source": [
    "day_list_2 = []\n",
    "month_list_2 = []\n",
    "\n",
    "year_month_list = []\n",
    "year_month_day_list = []\n",
    "\n",
    "\n",
    "for i in range(0, len(day_list)):\n",
    "    if int(day_list[i]) < 10:\n",
    "        day_list_2.append(\"0\" + str(day_list[i]))\n",
    "    else:\n",
    "        day_list_2.append(str(day_list[i]))\n",
    "        \n",
    "for i in range(0, len(month_list)):\n",
    "    if int(month_list[i]) < 10:\n",
    "        month_list_2.append(\"0\" + str(month_list[i]))\n",
    "    else:\n",
    "        month_list_2.append(str(month_list[i]))\n",
    "        \n",
    "\n",
    "        \n",
    "for i in range(0, len(month_list_2)):\n",
    "    year_month_list.append(str(year_list[i])+str(month_list_2[i]))\n",
    "    year_month_day_list.append(str(year_list[i])+str(month_list_2[i])+str(day_list_2[i]))\n",
    "        \n",
    "\n",
    "\n",
    "sentiment_list = []\n",
    "\n",
    "\n",
    "for i in range(0, len(headline_list)):\n",
    "    sentiment_list.append(sentiment_scores(headline_list[i]))"
   ]
  },
  {
   "cell_type": "markdown",
   "id": "782c0e1b",
   "metadata": {},
   "source": [
    " "
   ]
  },
  {
   "cell_type": "markdown",
   "id": "a1a2ae06",
   "metadata": {},
   "source": [
    " "
   ]
  },
  {
   "cell_type": "markdown",
   "id": "8348ef30",
   "metadata": {},
   "source": [
    "\n",
    "It will build the dataframe by combining the year, month, day, headline, link, sentiment score etc."
   ]
  },
  {
   "cell_type": "code",
   "execution_count": 24,
   "id": "cc34c909",
   "metadata": {},
   "outputs": [],
   "source": [
    "\n",
    "\n",
    "text_analysis_df = pd.DataFrame({'year': year_list, 'month': month_list, 'day': day_list, 'year_month':year_month_list, 'year_month_day': year_month_day_list, 'healine': headline_list, 'link': link_list, 'sentiment': sentiment_list})  \n",
    "\n"
   ]
  },
  {
   "cell_type": "markdown",
   "id": "1120ac9d",
   "metadata": {},
   "source": [
    " "
   ]
  },
  {
   "cell_type": "markdown",
   "id": "2ed7a85f",
   "metadata": {},
   "source": [
    " "
   ]
  },
  {
   "cell_type": "markdown",
   "id": "a9277e8f",
   "metadata": {},
   "source": [
    "\n",
    "It remove all duplicates news"
   ]
  },
  {
   "cell_type": "code",
   "execution_count": 25,
   "id": "5f9747e9",
   "metadata": {},
   "outputs": [],
   "source": [
    "\n",
    "text_analysis_df = text_analysis_df.drop_duplicates(subset =\"healine\", keep = 'first')"
   ]
  },
  {
   "cell_type": "markdown",
   "id": "fc024323",
   "metadata": {},
   "source": [
    " "
   ]
  },
  {
   "cell_type": "markdown",
   "id": "49433e1f",
   "metadata": {},
   "source": [
    " "
   ]
  },
  {
   "cell_type": "markdown",
   "id": "948f0e65",
   "metadata": {},
   "source": [
    "\n",
    "It prints the dataframe"
   ]
  },
  {
   "cell_type": "code",
   "execution_count": 26,
   "id": "fc1be5b9",
   "metadata": {},
   "outputs": [
    {
     "data": {
      "text/html": [
       "<div>\n",
       "<style scoped>\n",
       "    .dataframe tbody tr th:only-of-type {\n",
       "        vertical-align: middle;\n",
       "    }\n",
       "\n",
       "    .dataframe tbody tr th {\n",
       "        vertical-align: top;\n",
       "    }\n",
       "\n",
       "    .dataframe thead th {\n",
       "        text-align: right;\n",
       "    }\n",
       "</style>\n",
       "<table border=\"1\" class=\"dataframe\">\n",
       "  <thead>\n",
       "    <tr style=\"text-align: right;\">\n",
       "      <th></th>\n",
       "      <th>year</th>\n",
       "      <th>month</th>\n",
       "      <th>day</th>\n",
       "      <th>year_month</th>\n",
       "      <th>year_month_day</th>\n",
       "      <th>healine</th>\n",
       "      <th>link</th>\n",
       "      <th>sentiment</th>\n",
       "    </tr>\n",
       "  </thead>\n",
       "  <tbody>\n",
       "    <tr>\n",
       "      <th>0</th>\n",
       "      <td>2022</td>\n",
       "      <td>8</td>\n",
       "      <td>25</td>\n",
       "      <td>202208</td>\n",
       "      <td>20220825</td>\n",
       "      <td>Bitcoin (BTC), Ethereum (ETH) Volatility Leads...</td>\n",
       "      <td>https://www.bloomberg.com/news/articles/2022-0...</td>\n",
       "      <td>0.0000</td>\n",
       "    </tr>\n",
       "    <tr>\n",
       "      <th>1</th>\n",
       "      <td>2022</td>\n",
       "      <td>8</td>\n",
       "      <td>25</td>\n",
       "      <td>202208</td>\n",
       "      <td>20220825</td>\n",
       "      <td>Bitcoin, Ethereum Technical Analysis: ETH Back...</td>\n",
       "      <td>https://news.bitcoin.com/bitcoin-ethereum-tech...</td>\n",
       "      <td>0.0000</td>\n",
       "    </tr>\n",
       "    <tr>\n",
       "      <th>2</th>\n",
       "      <td>2022</td>\n",
       "      <td>8</td>\n",
       "      <td>25</td>\n",
       "      <td>202208</td>\n",
       "      <td>20220825</td>\n",
       "      <td>Bitcoin Bearish Signal: Miners Continue To Dump</td>\n",
       "      <td>https://www.newsbtc.com/news/bitcoin/bitcoin-b...</td>\n",
       "      <td>-0.3818</td>\n",
       "    </tr>\n",
       "    <tr>\n",
       "      <th>3</th>\n",
       "      <td>2022</td>\n",
       "      <td>8</td>\n",
       "      <td>25</td>\n",
       "      <td>202208</td>\n",
       "      <td>20220825</td>\n",
       "      <td>Analysis: The $885 million Bitcoin Depot SPAC ...</td>\n",
       "      <td>https://www.ledgerinsights.com/analysis-the-88...</td>\n",
       "      <td>0.0000</td>\n",
       "    </tr>\n",
       "    <tr>\n",
       "      <th>4</th>\n",
       "      <td>2022</td>\n",
       "      <td>8</td>\n",
       "      <td>25</td>\n",
       "      <td>202208</td>\n",
       "      <td>20220825</td>\n",
       "      <td>Bitcoin Depot to list in the U.S. through $885...</td>\n",
       "      <td>https://www.reuters.com/markets/deals/bitcoin-...</td>\n",
       "      <td>0.0000</td>\n",
       "    </tr>\n",
       "    <tr>\n",
       "      <th>...</th>\n",
       "      <td>...</td>\n",
       "      <td>...</td>\n",
       "      <td>...</td>\n",
       "      <td>...</td>\n",
       "      <td>...</td>\n",
       "      <td>...</td>\n",
       "      <td>...</td>\n",
       "      <td>...</td>\n",
       "    </tr>\n",
       "    <tr>\n",
       "      <th>1344</th>\n",
       "      <td>2022</td>\n",
       "      <td>8</td>\n",
       "      <td>31</td>\n",
       "      <td>202208</td>\n",
       "      <td>20220831</td>\n",
       "      <td>Bitcoin Price Chart May Signal End to Selloff,...</td>\n",
       "      <td>https://www.inferse.com/197765/bitcoin-price-c...</td>\n",
       "      <td>0.0000</td>\n",
       "    </tr>\n",
       "    <tr>\n",
       "      <th>1345</th>\n",
       "      <td>2022</td>\n",
       "      <td>8</td>\n",
       "      <td>31</td>\n",
       "      <td>202208</td>\n",
       "      <td>20220831</td>\n",
       "      <td>Crypto will become an inflation hedge — just n...</td>\n",
       "      <td>https://techbullion.com/crypto-will-become-an-...</td>\n",
       "      <td>0.0000</td>\n",
       "    </tr>\n",
       "    <tr>\n",
       "      <th>1346</th>\n",
       "      <td>2022</td>\n",
       "      <td>8</td>\n",
       "      <td>31</td>\n",
       "      <td>202208</td>\n",
       "      <td>20220831</td>\n",
       "      <td>Singapore Considers Stricter Rules for Retail ...</td>\n",
       "      <td>https://www.inferse.com/197692/singapore-consi...</td>\n",
       "      <td>0.0000</td>\n",
       "    </tr>\n",
       "    <tr>\n",
       "      <th>1347</th>\n",
       "      <td>2022</td>\n",
       "      <td>8</td>\n",
       "      <td>31</td>\n",
       "      <td>202208</td>\n",
       "      <td>20220831</td>\n",
       "      <td>Pimride (PIM) Is Now Available for Trading on ...</td>\n",
       "      <td>https://www.livebitcoinnews.com/pimride-pim-is...</td>\n",
       "      <td>0.0000</td>\n",
       "    </tr>\n",
       "    <tr>\n",
       "      <th>1348</th>\n",
       "      <td>2022</td>\n",
       "      <td>8</td>\n",
       "      <td>31</td>\n",
       "      <td>202208</td>\n",
       "      <td>20220831</td>\n",
       "      <td>What You Need to Know About Running a Cryptocu...</td>\n",
       "      <td>https://www.imcgrupo.com/what-you-need-to-know...</td>\n",
       "      <td>0.0000</td>\n",
       "    </tr>\n",
       "  </tbody>\n",
       "</table>\n",
       "<p>1311 rows × 8 columns</p>\n",
       "</div>"
      ],
      "text/plain": [
       "      year  month  day year_month year_month_day  \\\n",
       "0     2022      8   25     202208       20220825   \n",
       "1     2022      8   25     202208       20220825   \n",
       "2     2022      8   25     202208       20220825   \n",
       "3     2022      8   25     202208       20220825   \n",
       "4     2022      8   25     202208       20220825   \n",
       "...    ...    ...  ...        ...            ...   \n",
       "1344  2022      8   31     202208       20220831   \n",
       "1345  2022      8   31     202208       20220831   \n",
       "1346  2022      8   31     202208       20220831   \n",
       "1347  2022      8   31     202208       20220831   \n",
       "1348  2022      8   31     202208       20220831   \n",
       "\n",
       "                                                healine  \\\n",
       "0     Bitcoin (BTC), Ethereum (ETH) Volatility Leads...   \n",
       "1     Bitcoin, Ethereum Technical Analysis: ETH Back...   \n",
       "2       Bitcoin Bearish Signal: Miners Continue To Dump   \n",
       "3     Analysis: The $885 million Bitcoin Depot SPAC ...   \n",
       "4     Bitcoin Depot to list in the U.S. through $885...   \n",
       "...                                                 ...   \n",
       "1344  Bitcoin Price Chart May Signal End to Selloff,...   \n",
       "1345  Crypto will become an inflation hedge — just n...   \n",
       "1346  Singapore Considers Stricter Rules for Retail ...   \n",
       "1347  Pimride (PIM) Is Now Available for Trading on ...   \n",
       "1348  What You Need to Know About Running a Cryptocu...   \n",
       "\n",
       "                                                   link  sentiment  \n",
       "0     https://www.bloomberg.com/news/articles/2022-0...     0.0000  \n",
       "1     https://news.bitcoin.com/bitcoin-ethereum-tech...     0.0000  \n",
       "2     https://www.newsbtc.com/news/bitcoin/bitcoin-b...    -0.3818  \n",
       "3     https://www.ledgerinsights.com/analysis-the-88...     0.0000  \n",
       "4     https://www.reuters.com/markets/deals/bitcoin-...     0.0000  \n",
       "...                                                 ...        ...  \n",
       "1344  https://www.inferse.com/197765/bitcoin-price-c...     0.0000  \n",
       "1345  https://techbullion.com/crypto-will-become-an-...     0.0000  \n",
       "1346  https://www.inferse.com/197692/singapore-consi...     0.0000  \n",
       "1347  https://www.livebitcoinnews.com/pimride-pim-is...     0.0000  \n",
       "1348  https://www.imcgrupo.com/what-you-need-to-know...     0.0000  \n",
       "\n",
       "[1311 rows x 8 columns]"
      ]
     },
     "execution_count": 26,
     "metadata": {},
     "output_type": "execute_result"
    }
   ],
   "source": [
    "\n",
    "text_analysis_df"
   ]
  },
  {
   "cell_type": "markdown",
   "id": "439ad7bb",
   "metadata": {},
   "source": [
    " "
   ]
  },
  {
   "cell_type": "markdown",
   "id": "ab3892a2",
   "metadata": {},
   "source": [
    " "
   ]
  },
  {
   "cell_type": "markdown",
   "id": "94c04e57",
   "metadata": {},
   "source": [
    "\n",
    "It export the dataframe to csv"
   ]
  },
  {
   "cell_type": "code",
   "execution_count": 28,
   "id": "9d9ddace",
   "metadata": {},
   "outputs": [],
   "source": [
    "\n",
    "text_analysis_df.to_csv('bitcoin_news.csv', index = False)\n"
   ]
  }
 ],
 "metadata": {
  "kernelspec": {
   "display_name": "Python 3 (ipykernel)",
   "language": "python",
   "name": "python3"
  },
  "language_info": {
   "codemirror_mode": {
    "name": "ipython",
    "version": 3
   },
   "file_extension": ".py",
   "mimetype": "text/x-python",
   "name": "python",
   "nbconvert_exporter": "python",
   "pygments_lexer": "ipython3",
   "version": "3.9.7"
  }
 },
 "nbformat": 4,
 "nbformat_minor": 5
}
