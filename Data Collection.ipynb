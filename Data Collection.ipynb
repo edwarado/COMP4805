{
 "cells": [
  {
   "cell_type": "code",
   "execution_count": 1,
   "id": "fc546065",
   "metadata": {},
   "outputs": [
    {
     "name": "stdout",
     "output_type": "stream",
     "text": [
      "Requirement already satisfied: selenium in /Users/apple/opt/anaconda3/lib/python3.9/site-packages (4.4.0)\n",
      "Requirement already satisfied: trio~=0.17 in /Users/apple/opt/anaconda3/lib/python3.9/site-packages (from selenium) (0.21.0)\n",
      "Requirement already satisfied: urllib3[secure,socks]~=1.26 in /Users/apple/opt/anaconda3/lib/python3.9/site-packages (from selenium) (1.26.7)\n",
      "Requirement already satisfied: trio-websocket~=0.9 in /Users/apple/opt/anaconda3/lib/python3.9/site-packages (from selenium) (0.9.2)\n",
      "Requirement already satisfied: sortedcontainers in /Users/apple/opt/anaconda3/lib/python3.9/site-packages (from trio~=0.17->selenium) (2.4.0)\n",
      "Requirement already satisfied: async-generator>=1.9 in /Users/apple/opt/anaconda3/lib/python3.9/site-packages (from trio~=0.17->selenium) (1.10)\n",
      "Requirement already satisfied: idna in /Users/apple/opt/anaconda3/lib/python3.9/site-packages (from trio~=0.17->selenium) (3.2)\n",
      "Requirement already satisfied: outcome in /Users/apple/opt/anaconda3/lib/python3.9/site-packages (from trio~=0.17->selenium) (1.2.0)\n",
      "Requirement already satisfied: sniffio in /Users/apple/opt/anaconda3/lib/python3.9/site-packages (from trio~=0.17->selenium) (1.2.0)\n",
      "Requirement already satisfied: attrs>=19.2.0 in /Users/apple/opt/anaconda3/lib/python3.9/site-packages (from trio~=0.17->selenium) (21.2.0)\n",
      "Requirement already satisfied: wsproto>=0.14 in /Users/apple/opt/anaconda3/lib/python3.9/site-packages (from trio-websocket~=0.9->selenium) (1.1.0)\n",
      "Requirement already satisfied: PySocks!=1.5.7,<2.0,>=1.5.6 in /Users/apple/opt/anaconda3/lib/python3.9/site-packages (from urllib3[secure,socks]~=1.26->selenium) (1.7.1)\n",
      "Requirement already satisfied: pyOpenSSL>=0.14 in /Users/apple/opt/anaconda3/lib/python3.9/site-packages (from urllib3[secure,socks]~=1.26->selenium) (21.0.0)\n",
      "Requirement already satisfied: cryptography>=1.3.4 in /Users/apple/opt/anaconda3/lib/python3.9/site-packages (from urllib3[secure,socks]~=1.26->selenium) (3.4.8)\n",
      "Requirement already satisfied: certifi in /Users/apple/opt/anaconda3/lib/python3.9/site-packages (from urllib3[secure,socks]~=1.26->selenium) (2021.10.8)\n",
      "Requirement already satisfied: cffi>=1.12 in /Users/apple/opt/anaconda3/lib/python3.9/site-packages (from cryptography>=1.3.4->urllib3[secure,socks]~=1.26->selenium) (1.14.6)\n",
      "Requirement already satisfied: pycparser in /Users/apple/opt/anaconda3/lib/python3.9/site-packages (from cffi>=1.12->cryptography>=1.3.4->urllib3[secure,socks]~=1.26->selenium) (2.20)\n",
      "Requirement already satisfied: six>=1.5.2 in /Users/apple/opt/anaconda3/lib/python3.9/site-packages (from pyOpenSSL>=0.14->urllib3[secure,socks]~=1.26->selenium) (1.16.0)\n",
      "Requirement already satisfied: h11<1,>=0.9.0 in /Users/apple/opt/anaconda3/lib/python3.9/site-packages (from wsproto>=0.14->trio-websocket~=0.9->selenium) (0.13.0)\n",
      "Note: you may need to restart the kernel to use updated packages.\n"
     ]
    }
   ],
   "source": [
    "pip install selenium"
   ]
  },
  {
   "cell_type": "code",
   "execution_count": 2,
   "id": "80599237",
   "metadata": {},
   "outputs": [
    {
     "name": "stdout",
     "output_type": "stream",
     "text": [
      "Requirement already satisfied: vaderSentiment in /Users/apple/opt/anaconda3/lib/python3.9/site-packages (3.3.2)\n",
      "Requirement already satisfied: requests in /Users/apple/opt/anaconda3/lib/python3.9/site-packages (from vaderSentiment) (2.26.0)\n",
      "Requirement already satisfied: idna<4,>=2.5 in /Users/apple/opt/anaconda3/lib/python3.9/site-packages (from requests->vaderSentiment) (3.2)\n",
      "Requirement already satisfied: certifi>=2017.4.17 in /Users/apple/opt/anaconda3/lib/python3.9/site-packages (from requests->vaderSentiment) (2021.10.8)\n",
      "Requirement already satisfied: urllib3<1.27,>=1.21.1 in /Users/apple/opt/anaconda3/lib/python3.9/site-packages (from requests->vaderSentiment) (1.26.7)\n",
      "Requirement already satisfied: charset-normalizer~=2.0.0 in /Users/apple/opt/anaconda3/lib/python3.9/site-packages (from requests->vaderSentiment) (2.0.4)\n",
      "Note: you may need to restart the kernel to use updated packages.\n"
     ]
    }
   ],
   "source": [
    "pip install vaderSentiment"
   ]
  },
  {
   "cell_type": "code",
   "execution_count": 3,
   "id": "c4628990",
   "metadata": {},
   "outputs": [
    {
     "name": "stdout",
     "output_type": "stream",
     "text": [
      "Requirement already satisfied: matplotlib in /Users/apple/opt/anaconda3/lib/python3.9/site-packages (3.4.3)\n",
      "Requirement already satisfied: pyparsing>=2.2.1 in /Users/apple/opt/anaconda3/lib/python3.9/site-packages (from matplotlib) (3.0.4)\n",
      "Requirement already satisfied: cycler>=0.10 in /Users/apple/opt/anaconda3/lib/python3.9/site-packages (from matplotlib) (0.10.0)\n",
      "Requirement already satisfied: python-dateutil>=2.7 in /Users/apple/opt/anaconda3/lib/python3.9/site-packages (from matplotlib) (2.8.2)\n",
      "Requirement already satisfied: kiwisolver>=1.0.1 in /Users/apple/opt/anaconda3/lib/python3.9/site-packages (from matplotlib) (1.3.1)\n",
      "Requirement already satisfied: numpy>=1.16 in /Users/apple/opt/anaconda3/lib/python3.9/site-packages (from matplotlib) (1.20.3)\n",
      "Requirement already satisfied: pillow>=6.2.0 in /Users/apple/opt/anaconda3/lib/python3.9/site-packages (from matplotlib) (8.4.0)\n",
      "Requirement already satisfied: six in /Users/apple/opt/anaconda3/lib/python3.9/site-packages (from cycler>=0.10->matplotlib) (1.16.0)\n",
      "Note: you may need to restart the kernel to use updated packages.\n"
     ]
    }
   ],
   "source": [
    "pip install matplotlib\n"
   ]
  },
  {
   "cell_type": "code",
   "execution_count": 4,
   "id": "36b777b9",
   "metadata": {},
   "outputs": [
    {
     "name": "stdout",
     "output_type": "stream",
     "text": [
      "Requirement already satisfied: plotly in /Users/apple/opt/anaconda3/lib/python3.9/site-packages (5.10.0)\n",
      "Requirement already satisfied: tenacity>=6.2.0 in /Users/apple/opt/anaconda3/lib/python3.9/site-packages (from plotly) (8.0.1)\n",
      "Note: you may need to restart the kernel to use updated packages.\n"
     ]
    }
   ],
   "source": [
    "pip install plotly"
   ]
  },
  {
   "cell_type": "code",
   "execution_count": 1,
   "id": "5ee8644e",
   "metadata": {},
   "outputs": [],
   "source": [
    "from bs4 import BeautifulSoup\n",
    "from urllib.request import urlopen\n",
    "\n",
    "#from selenium import webdriver\n",
    "#import webbrowser\n",
    "\n",
    "from selenium.webdriver import Chrome\n",
    "from selenium.webdriver import ActionChains\n",
    "from selenium import webdriver\n",
    "import time\n",
    "\n",
    "\n",
    "from selenium.webdriver.common.by import By\n",
    "from vaderSentiment.vaderSentiment import SentimentIntensityAnalyzer\n",
    "\n",
    "\n",
    "\n",
    "import pandas as pd\n",
    "import plotly.express as px\n",
    "import numpy as np\n",
    "\n",
    "\n",
    "\n",
    "import inspect\n",
    "\n",
    "import matplotlib as mpl\n",
    "import matplotlib.pyplot as plt\n",
    "import seaborn as sns\n",
    "import csv\n"
   ]
  },
  {
   "cell_type": "code",
   "execution_count": 2,
   "id": "e3836190",
   "metadata": {},
   "outputs": [],
   "source": [
    "#bitcoin_price_monthly"
   ]
  },
  {
   "cell_type": "code",
   "execution_count": 3,
   "id": "92cb910d",
   "metadata": {},
   "outputs": [],
   "source": [
    "#uni_df = pd.read_csv('uni_df.csv')\n",
    "\n",
    "bitcoin_price_monthly = pd.read_csv ('bitcoin_price_monthly.csv')\n",
    "bitcoin_price_weekly = pd.read_csv ('bitcoin_price_weekly.csv')\n",
    "bitcoin_price_daily = pd.read_csv ('bitcoin_price_daily.csv')\n",
    "\n",
    "\n",
    "\n",
    "#fig = px.line(bitcoin_price_daily, x = 'year_month_day', y = 'Close', title='bitcoin')\n",
    "\n",
    "#fig.show()\n",
    "\n"
   ]
  },
  {
   "cell_type": "code",
   "execution_count": 4,
   "id": "4eccc4bc",
   "metadata": {},
   "outputs": [],
   "source": [
    "\n",
    "\n",
    "def sentiment_scores(sentence):\n",
    " \n",
    "    # Create a SentimentIntensityAnalyzer object.\n",
    "    sid_obj = SentimentIntensityAnalyzer()\n",
    " \n",
    "    # polarity_scores method of SentimentIntensityAnalyzer\n",
    "    # object gives a sentiment dictionary.\n",
    "    # which contains pos, neg, neu, and compound scores.\n",
    "    sentiment_dict = sid_obj.polarity_scores(sentence)\n",
    "    \n",
    "    return sentiment_dict['compound']\n",
    "\n"
   ]
  },
  {
   "cell_type": "code",
   "execution_count": 5,
   "id": "457b53f0",
   "metadata": {},
   "outputs": [],
   "source": [
    "#link=\"https://www.google.com/search?q=bitcoin&hl=en-US&biw=1440&bih=706&sxsrf=ALiCzsaLHN0RAHh1o4D2QSeTTNQeMdakdw%3A1660888361013&source=lnt&tbs=cdr%3A1%2Ccd_min%3A1%2F20%2F2018%2Ccd_max%3A1%2F20%2F2018&tbm=nws\"\n",
    "\n",
    "\n",
    "\n",
    "def returnmonth(link):\n",
    "    min_month = 0\n",
    "    min_day = 0\n",
    "    min_year = 0\n",
    "    max_month = 0\n",
    "    max_day = 0\n",
    "    max_year = 0\n",
    "    \n",
    "    min_month = int(link[link.find(\"min%3A\")+6:link.find(\"%2F\")])\n",
    "    min_day = int(link[link.find(\"%2F\")+3:link.find(\"%2F20\", 173)])\n",
    "    min_year = int(link[link.find(\"%2F20\", 173)+3:link.find(\"%2Ccd_max\")])\n",
    "    \n",
    "    return min_month, min_day, min_year\n",
    "\n",
    "\n",
    "\n"
   ]
  },
  {
   "cell_type": "code",
   "execution_count": 6,
   "id": "27df536f",
   "metadata": {},
   "outputs": [],
   "source": [
    "\n",
    "\n",
    "def updatedate(min_month, min_day, min_year, max_month, max_day, max_year):\n",
    "    if min_month == 12 and min_day == 31:\n",
    "        min_monh = 1\n",
    "        max_month = 1\n",
    "        \n",
    "        min_day = 1\n",
    "        max_day = 1 \n",
    "        \n",
    "        min_year = min_year + 1\n",
    "        max_year = max_year + 1\n",
    "        \n",
    "    elif (min_month == 1 or min_month == 3 or min_month == 5 or min_month == 7 or min_month == 8 or min_month == 10 or min_month == 12) and min_day == 31:\n",
    "        min_month = min_month + 1\n",
    "        max_month = max_month + 1\n",
    "        \n",
    "        min_day = 1\n",
    "        max_day = 1 \n",
    "        \n",
    "    elif (min_month == 4 or min_month == 6 or min_month == 9 or min_month == 11) and min_day == 30:\n",
    "        min_month = min_month + 1\n",
    "        max_month = max_month + 1\n",
    "        \n",
    "        min_day = 1\n",
    "        max_day = 1 \n",
    "        \n",
    "    elif min_month == 2 and min_day == 29 and (min_year == 2020 or min_year == 2016 or min_year == 2012 or min_year == 2008):\n",
    "        min_month = min_month + 1\n",
    "        max_month = max_month + 1\n",
    "        \n",
    "        min_day = 1\n",
    "        max_day = 1 \n",
    "        \n",
    "    elif min_month == 2 and min_day == 28:\n",
    "        min_month = min_month + 1\n",
    "        max_month = max_month + 1\n",
    "        \n",
    "        min_day = 1\n",
    "        max_day = 1 \n",
    "    \n",
    "    else:\n",
    "        min_day = min_day + 1\n",
    "        max_day = max_day + 1\n",
    "        \n",
    "    return str(min_month), str(min_day), str(min_year), str(max_month), str(max_day), str(max_year)\n",
    "    \n",
    "\n",
    "\n",
    "\n",
    "\n",
    "    "
   ]
  },
  {
   "cell_type": "code",
   "execution_count": 7,
   "id": "4c97693b",
   "metadata": {},
   "outputs": [
    {
     "data": {
      "text/plain": [
       "'20%2F2018%2Ccd_max%3A1%2F1%2F2018&tbm=nws'"
      ]
     },
     "execution_count": 7,
     "metadata": {},
     "output_type": "execute_result"
    }
   ],
   "source": [
    "\n",
    "\n",
    "link = 'https://www.google.com/search?q=bitcoin&lr=lang_en&hl=en-US&biw=1440&bih=706&sxsrf=ALiCzsZ-yYrB04X2_aorDONhp1sBBArpwQ%3A1660887991435&source=lnt&tbs=cdr%3A1%2Ccd_min%3A10%2F20%2F2018%2Ccd_max%3A1%2F1%2F2018&tbm=nws'\n",
    "\n",
    "link[173:]\n"
   ]
  },
  {
   "cell_type": "code",
   "execution_count": 8,
   "id": "04c88718",
   "metadata": {},
   "outputs": [],
   "source": [
    "\n",
    "#link=\"https://www.google.com/search?q=bitcoin&hl=en-US&biw=1440&bih=706&sxsrf=ALiCzsaLHN0RAHh1o4D2QSeTTNQeMdakdw%3A1660888361013&source=lnt&tbs=cdr%3A1%2Ccd_min%3A1%2F20%2F2018%2Ccd_max%3A1%2F20%2F2018&tbm=nws\"\n",
    "\n",
    "\n",
    "\n",
    "\n",
    "\n",
    "def changelink(link):\n",
    "\n",
    "\n",
    "    month = int(link[link.find(\"min%3A\")+6:link.find(\"%2F\")])\n",
    "    day = int(link[link.find(\"%2F\")+3:link.find(\"%2F20\", 173)])\n",
    "    year = int(link[link.find(\"%2F20\", 173)+3:link.find(\"%2Ccd_max\")])\n",
    "    #max_month = int(link[link.find(\"max%3A\")+6:link.find(\"%2F\", 179)])\n",
    "    #max_day = int(link[link.find(\"%2F\", 179)+3:link.find(\"%2F20\", 185)])\n",
    "    #max_year = int(link[link.find(\"%2F20\", 185)+3:link.find(\"&tbm=nws\")])\n",
    "    \n",
    "    \n",
    "    #print(min_month)\n",
    "    #print(min_day)\n",
    "    #print(min_year)\n",
    "    #print(max_month)\n",
    "    #print(max_day)\n",
    "    #print(max_year)\n",
    "    \n",
    "    \n",
    "    \n",
    "    result = \"https://www.google.com/search?q=bitcoin&lr=lang_en&hl=en-US&biw=1440&bih=706&sxsrf=ALiCzsaLHN0RAHh1o4D2QSeTTNQeMdakdw%3A1660888361013&source=lnt&tbs=cdr%3A1%2Ccd_min%3A\" + updatedate(month, day, year, month,day, year)[0] + \"%2F\" + updatedate(month, day, year, month, day, year)[1]+ \"%2F\"+ updatedate(month, day, year, month, day, year)[2] +\"%2Ccd_max%3A\"+ updatedate(month, day, year, month, day, year)[3] + \"%2F\"+ updatedate(month, day, year, month, day, year)[4] + \"%2F\"+ updatedate(month, day, year, month, day, year)[5] + \"&tbm=nws\"\n",
    "    \n",
    "    return result\n",
    "\n",
    "#changelink(link)\n"
   ]
  },
  {
   "cell_type": "code",
   "execution_count": 9,
   "id": "ab8ca6c7",
   "metadata": {},
   "outputs": [],
   "source": [
    "\n",
    "def returnlink(month, day, year):\n",
    "    result = \"https://www.google.com/search?q=bitcoin&lr=lang_en&hl=en-US&biw=1440&bih=706&sxsrf=ALiCzsZ-yYrB04X2_aorDONhp1sBBArpwQ%3A1660887991435&source=lnt&tbs=cdr%3A1%2Ccd_min%3A\"+str(month)+\"%2F\"+str(day)+\"%2F\"+str(year)+\"%2Ccd_max%3A\"+str(month)+\"%2F\"+str(day)+\"%2F\"+str(year)+\"&tbm=nws\"\n",
    "    \n",
    "    return result\n",
    "    \n",
    "\n",
    "\n",
    "\n",
    "\n"
   ]
  },
  {
   "cell_type": "code",
   "execution_count": 10,
   "id": "60687471",
   "metadata": {},
   "outputs": [],
   "source": [
    "\n",
    "\n",
    "#len(\"https://www.google.com/search?q=bitcoin&hl=en-US&biw=1440&bih=706&sxsrf=ALiCzsaLHN0RAHh1o4D2QSeTTNQeMdakdw%3A1660888361013&source=lnt&tbs=cdr%3A1%2Ccd_min%3A1%2F2\")\n",
    "\n"
   ]
  },
  {
   "cell_type": "code",
   "execution_count": 11,
   "id": "87d8ecfb",
   "metadata": {},
   "outputs": [],
   "source": [
    "headline_list = []\n",
    "day_list = []\n",
    "day_list_2 = []\n",
    "year_list = []\n",
    "month_list = []\n",
    "month_list_2 = []\n",
    "sentiment_list = []\n",
    "link_list = []\n",
    "\n",
    "\n",
    "year_month_list = []\n",
    "year_month_day_list = []\n",
    "\n"
   ]
  },
  {
   "cell_type": "markdown",
   "id": "dcd828b1",
   "metadata": {},
   "source": []
  },
  {
   "cell_type": "code",
   "execution_count": null,
   "id": "6b610345",
   "metadata": {},
   "outputs": [],
   "source": []
  },
  {
   "cell_type": "code",
   "execution_count": null,
   "id": "c5deb1ab",
   "metadata": {},
   "outputs": [],
   "source": []
  },
  {
   "cell_type": "code",
   "execution_count": 2,
   "id": "5b3098db",
   "metadata": {},
   "outputs": [
    {
     "name": "stdout",
     "output_type": "stream",
     "text": [
      "Requirement already satisfied: requests in /Users/apple/opt/anaconda3/lib/python3.9/site-packages (2.26.0)\n",
      "Requirement already satisfied: charset-normalizer~=2.0.0 in /Users/apple/opt/anaconda3/lib/python3.9/site-packages (from requests) (2.0.4)\n",
      "Requirement already satisfied: idna<4,>=2.5 in /Users/apple/opt/anaconda3/lib/python3.9/site-packages (from requests) (3.2)\n",
      "Requirement already satisfied: certifi>=2017.4.17 in /Users/apple/opt/anaconda3/lib/python3.9/site-packages (from requests) (2021.10.8)\n",
      "Requirement already satisfied: urllib3<1.27,>=1.21.1 in /Users/apple/opt/anaconda3/lib/python3.9/site-packages (from requests) (1.26.7)\n",
      "Note: you may need to restart the kernel to use updated packages.\n"
     ]
    }
   ],
   "source": [
    "pip install requests"
   ]
  },
  {
   "cell_type": "code",
   "execution_count": 28,
   "id": "40062734",
   "metadata": {},
   "outputs": [
    {
     "data": {
      "text/plain": [
       "'\\nimport requests\\nurl = \\'https://httpbin.org/ip\\'\\nproxies = {\\n\"http\": \\'http://209.50.52.162:9050\\', \\n\"https\": \\'http://209.50.52.162:9050\\'\\n}\\nresponse = requests.get(url,proxies=proxies)\\nprint(response.json())\\n\\n'"
      ]
     },
     "execution_count": 28,
     "metadata": {},
     "output_type": "execute_result"
    }
   ],
   "source": [
    "\n",
    "\"\"\"\n",
    "import requests\n",
    "url = 'https://httpbin.org/ip'\n",
    "proxies = {\n",
    "\"http\": 'http://209.50.52.162:9050', \n",
    "\"https\": 'http://209.50.52.162:9050'\n",
    "}\n",
    "response = requests.get(url,proxies=proxies)\n",
    "print(response.json())\n",
    "\n",
    "\"\"\""
   ]
  },
  {
   "cell_type": "code",
   "execution_count": 27,
   "id": "b109b490",
   "metadata": {},
   "outputs": [
    {
     "name": "stdout",
     "output_type": "stream",
     "text": [
      "usage: /Users/apple/opt/anaconda3/lib/python3.9/site-packages/ipykernel_launcher.py [country name | country code]\n",
      "Found 0 servers for country -f\n",
      "0 of these servers support OpenVPN\n"
     ]
    },
    {
     "ename": "IndexError",
     "evalue": "list index out of range",
     "output_type": "error",
     "traceback": [
      "\u001b[0;31m---------------------------------------------------------------------------\u001b[0m",
      "\u001b[0;31mIndexError\u001b[0m                                Traceback (most recent call last)",
      "\u001b[0;32m/var/folders/mr/lclw3hlj0zs374kh0pvrp2zm0000gn/T/ipykernel_3315/822485297.py\u001b[0m in \u001b[0;36m<module>\u001b[0;34m\u001b[0m\n\u001b[1;32m     45\u001b[0m \u001b[0mprint\u001b[0m\u001b[0;34m(\u001b[0m\u001b[0mstr\u001b[0m\u001b[0;34m(\u001b[0m\u001b[0mlen\u001b[0m\u001b[0;34m(\u001b[0m\u001b[0msupported\u001b[0m\u001b[0;34m)\u001b[0m\u001b[0;34m)\u001b[0m \u001b[0;34m+\u001b[0m \u001b[0;34m' of these servers support OpenVPN'\u001b[0m\u001b[0;34m)\u001b[0m\u001b[0;34m\u001b[0m\u001b[0;34m\u001b[0m\u001b[0m\n\u001b[1;32m     46\u001b[0m \u001b[0;31m# We pick the best servers by score\u001b[0m\u001b[0;34m\u001b[0m\u001b[0;34m\u001b[0m\u001b[0m\n\u001b[0;32m---> 47\u001b[0;31m \u001b[0mwinner\u001b[0m \u001b[0;34m=\u001b[0m \u001b[0msorted\u001b[0m\u001b[0;34m(\u001b[0m\u001b[0msupported\u001b[0m\u001b[0;34m,\u001b[0m \u001b[0mkey\u001b[0m\u001b[0;34m=\u001b[0m\u001b[0;32mlambda\u001b[0m \u001b[0ms\u001b[0m\u001b[0;34m:\u001b[0m \u001b[0mfloat\u001b[0m\u001b[0;34m(\u001b[0m\u001b[0ms\u001b[0m\u001b[0;34m[\u001b[0m\u001b[0;36m2\u001b[0m\u001b[0;34m]\u001b[0m\u001b[0;34m.\u001b[0m\u001b[0mreplace\u001b[0m\u001b[0;34m(\u001b[0m\u001b[0;34m','\u001b[0m\u001b[0;34m,\u001b[0m\u001b[0;34m'.'\u001b[0m\u001b[0;34m)\u001b[0m\u001b[0;34m)\u001b[0m\u001b[0;34m,\u001b[0m \u001b[0mreverse\u001b[0m\u001b[0;34m=\u001b[0m\u001b[0;32mTrue\u001b[0m\u001b[0;34m)\u001b[0m\u001b[0;34m[\u001b[0m\u001b[0;36m0\u001b[0m\u001b[0;34m]\u001b[0m\u001b[0;34m\u001b[0m\u001b[0;34m\u001b[0m\u001b[0m\n\u001b[0m\u001b[1;32m     48\u001b[0m \u001b[0;34m\u001b[0m\u001b[0m\n\u001b[1;32m     49\u001b[0m \u001b[0mprint\u001b[0m\u001b[0;34m(\u001b[0m\u001b[0;34m\"\\n== Best server ==\"\u001b[0m\u001b[0;34m)\u001b[0m\u001b[0;34m\u001b[0m\u001b[0;34m\u001b[0m\u001b[0m\n",
      "\u001b[0;31mIndexError\u001b[0m: list index out of range"
     ]
    }
   ],
   "source": []
  },
  {
   "cell_type": "code",
   "execution_count": null,
   "id": "a5ad4c1d",
   "metadata": {},
   "outputs": [],
   "source": []
  },
  {
   "cell_type": "code",
   "execution_count": null,
   "id": "3d965515",
   "metadata": {},
   "outputs": [],
   "source": []
  },
  {
   "cell_type": "code",
   "execution_count": 12,
   "id": "b4a6590c",
   "metadata": {},
   "outputs": [
    {
     "name": "stderr",
     "output_type": "stream",
     "text": [
      "/var/folders/mr/lclw3hlj0zs374kh0pvrp2zm0000gn/T/ipykernel_3108/801403462.py:1: DeprecationWarning: executable_path has been deprecated, please pass in a Service object\n",
      "  driver = Chrome('./chromedriver')\n"
     ]
    }
   ],
   "source": [
    "\n",
    "driver = Chrome('./chromedriver')\n"
   ]
  },
  {
   "cell_type": "code",
   "execution_count": 206,
   "id": "a13d9bc7",
   "metadata": {},
   "outputs": [
    {
     "name": "stdout",
     "output_type": "stream",
     "text": [
      "12\n",
      "31\n",
      "2017\n"
     ]
    }
   ],
   "source": [
    "#test\n",
    "\"\"\"\n",
    "\n",
    "link = \"https://www.google.com/search?q=bitcoin&hl=en-US&biw=1440&bih=706&sxsrf=ALiCzsZ-yYrB04X2_aorDONhp1sBBArpwQ%3A1660887991435&source=lnt&tbs=cdr%3A1%2Ccd_min%3A12%2F31%2F2017%2Ccd_max%3A12%2F31%2F2017&tbm=nws\"\n",
    "\n",
    "month = returnmonth(link)[0]\n",
    "day = returnmonth(link)[1]\n",
    "year = returnmonth(link)[2]\n",
    "\n",
    "\n",
    "print(month)\n",
    "print(day)\n",
    "print(year)\n",
    "\n",
    "\"\"\"\n"
   ]
  },
  {
   "cell_type": "code",
   "execution_count": 33,
   "id": "e1778835",
   "metadata": {},
   "outputs": [
    {
     "data": {
      "text/plain": [
       "'https://www.google.com/search?q=bitcoin&hl=en-US&biw=1440&bih=706&sxsrf=ALiCzsZ-yYrB04X2_aorDONhp1sBBArpwQ%3A1660887991435&source=lnt&tbs=cdr%3A1%2Ccd_min%3A11%2F13%2F2021%2Ccd_max%3A11%2F13%2F2021&tbm=nws'"
      ]
     },
     "execution_count": 33,
     "metadata": {},
     "output_type": "execute_result"
    }
   ],
   "source": [
    "#test\n",
    "\"\"\"\n",
    "year = 2021\n",
    "month = 11\n",
    "day = 13\n",
    "\n",
    "page = 30\n",
    "\n",
    "\n",
    "\n",
    "link = returnlink(month, day, year)\n",
    "\n",
    "link\n",
    "\n",
    "\"\"\""
   ]
  },
  {
   "cell_type": "code",
   "execution_count": 5,
   "id": "39f0b8e7",
   "metadata": {},
   "outputs": [
    {
     "data": {
      "text/plain": [
       "'https://www.google.com/search?q=bitcoin&lr=lang_en&hl=en-US&biw=1440&bih=706&sxsrf=ALiCzsZ-yYrB04X2_aorDONhp1sBBArpwQ%3A1660887991435&source=lnt&tbs=cdr%3A1%2Ccd_min%3A2020%2F2%2F28%2Ccd_max%3A2020%2F2%2F28&tbm=nws'"
      ]
     },
     "execution_count": 5,
     "metadata": {},
     "output_type": "execute_result"
    }
   ],
   "source": [
    "#test\n",
    "\"\"\"\n",
    "#search_result_list = bs.find('a', {\"id\": \"pnnext\"}).get_text()\n",
    "\n",
    "\n",
    "#search_result_list\n",
    "\n",
    "\n",
    "#print(search_result_list)\n",
    "\n",
    "#str(search_result_list).find(\"pnnext\") != -1\n",
    "\n",
    "#print(len(search_result_list))\n",
    "\n",
    "\n",
    "\n",
    "\n",
    "#search_result_list[0].find('a', {\"id\": \"pnnext\"}).get_text()\n",
    "\n",
    "\n",
    "next_page_link = \"\"\n",
    "\n",
    "\n",
    "year = 2018\n",
    "month = 2\n",
    "day = 3\n",
    "\n",
    "page = 2\n",
    "\n",
    "\n",
    "link = returnlink(month, day, year)\n",
    "\n",
    "\n",
    "driver.get(link)\n",
    "bs = BeautifulSoup(driver.page_source, 'html.parser')\n",
    "\n",
    "search_result_list = bs.find_all('td', {\"class\": \"d6cvqb BBwThe\"})\n",
    "\n",
    "\n",
    "\n",
    "\n",
    "\n",
    "if str(search_result_list).find(\"pnnext\") != -1:\n",
    "    next_page_link = str(\"https://www.google.com\" + search_result_list[-1].find(\"a\", {\"id\": \"pnnext\"}).get('href'))\n",
    "    \n",
    "    #print(search_result_list[0].find(\"a\", {\"id\": \"pnnext\"}).get('href'))\n",
    "    print(\"have next\")\n",
    "else:\n",
    "    print('no next')\n",
    "\n",
    "\n",
    "next_page_link\n",
    "\n",
    "\n",
    "\n",
    "\"\"\"\n",
    "\n",
    "link = returnlink(2020, 2, 28)\n",
    "\n",
    "link\n"
   ]
  },
  {
   "cell_type": "code",
   "execution_count": 70,
   "id": "2de4a383",
   "metadata": {},
   "outputs": [
    {
     "name": "stderr",
     "output_type": "stream",
     "text": [
      "/var/folders/mr/lclw3hlj0zs374kh0pvrp2zm0000gn/T/ipykernel_3748/2737021362.py:1: DeprecationWarning: executable_path has been deprecated, please pass in a Service object\n",
      "  driver = Chrome('./chromedriver')\n"
     ]
    }
   ],
   "source": [
    "\n",
    "driver = Chrome('./chromedriver')"
   ]
  },
  {
   "cell_type": "code",
   "execution_count": 21,
   "id": "d3a3ccd3",
   "metadata": {},
   "outputs": [
    {
     "name": "stderr",
     "output_type": "stream",
     "text": [
      "/var/folders/mr/lclw3hlj0zs374kh0pvrp2zm0000gn/T/ipykernel_3108/3548259835.py:8: DeprecationWarning: executable_path has been deprecated, please pass in a Service object\n",
      "  driver = Chrome('./chromedriver')\n"
     ]
    },
    {
     "name": "stdout",
     "output_type": "stream",
     "text": [
      "done\n"
     ]
    }
   ],
   "source": [
    "##working\n",
    "## loop this\n",
    "\n",
    "#from 2017/1/1\n",
    "\n",
    "#start at 2022/7/24\n",
    "\n",
    "driver = Chrome('./chromedriver')\n",
    "\n",
    "nex_page_link = \"\"\n",
    "\n",
    "year = 2022\n",
    "month = 8\n",
    "day = 30\n",
    "\n",
    "page = 2\n",
    "\n",
    "\n",
    "link = returnlink(month, day, year)\n",
    "\n",
    "\n",
    "for j in range(0, page):\n",
    "    \n",
    "    month = returnmonth(link)[0]\n",
    "    day = returnmonth(link)[1]\n",
    "    year = returnmonth(link)[2]\n",
    "\n",
    "    driver.get(link)\n",
    "    bs = BeautifulSoup(driver.page_source, 'html.parser')\n",
    "\n",
    "    search_result_list = bs.find_all('div', {\"class\": \"vJOb1e aIfcHf Hw13jc\"})\n",
    "    search_result_list_2 = bs.find_all('td', {\"class\": \"d6cvqb BBwThe\"})\n",
    "    search_result_list_3 = bs.find_all('a', {'class':'WlydOe'})\n",
    "    \n",
    "    time.sleep(1)\n",
    "\n",
    "\n",
    "    for i in range(0, len(search_result_list)):\n",
    "        headline_list.append(search_result_list[i].find('div', {\"class\": \"mCBkyc y355M ynAwRc MBeuO nDgy9d\"}).get_text())\n",
    "        link_list.append(search_result_list_3[i].get('href'))\n",
    "        month_list.append(month)\n",
    "        day_list.append(day)\n",
    "        year_list.append(year)\n",
    "        \n",
    "    while str(search_result_list_2).find(\"pnnext\") != -1:\n",
    "        next_page_link = str(\"https://www.google.com\" + search_result_list_2[-1].find(\"a\", {\"id\": \"pnnext\"}).get('href'))\n",
    "        driver.get(next_page_link)\n",
    "        bs = BeautifulSoup(driver.page_source, 'html.parser')\n",
    "        search_result_list = bs.find_all('div', {\"class\": \"vJOb1e aIfcHf Hw13jc\"})\n",
    "        search_result_list_2 = bs.find_all('td', {\"class\": \"d6cvqb BBwThe\"})\n",
    "        search_result_list_3 = bs.find_all('a', {'class':'WlydOe'})\n",
    "        \n",
    "        for k in range(0, len(search_result_list)):\n",
    "            headline_list.append(search_result_list[k].find('div', {\"class\": \"mCBkyc y355M ynAwRc MBeuO nDgy9d\"}).get_text())\n",
    "            link_list.append(search_result_list_3[k].get('href'))\n",
    "            month_list.append(month)\n",
    "            day_list.append(day)\n",
    "            year_list.append(year)\n",
    "        \n",
    "        #time.sleep(3)\n",
    "        \n",
    "    link = changelink(link)\n",
    "    \n",
    "print('done')\n"
   ]
  },
  {
   "cell_type": "code",
   "execution_count": 20,
   "id": "3be849c5",
   "metadata": {
    "scrolled": true
   },
   "outputs": [
    {
     "name": "stdout",
     "output_type": "stream",
     "text": [
      "2022\n",
      "8\n",
      "29\n",
      "939\n",
      "939\n",
      "Cyber Capital's Justin Bons explains why Bitcoin is not useful\n"
     ]
    }
   ],
   "source": [
    "print(year_list[-1])\n",
    "print(month_list[-1])\n",
    "print(day_list[-1])\n",
    "\n",
    "\n",
    "print(len(headline_list))\n",
    "\n",
    "\n",
    "print(len(link_list))\n",
    "\n",
    "print(headline_list[-1])"
   ]
  },
  {
   "cell_type": "code",
   "execution_count": 22,
   "id": "8a1213f0",
   "metadata": {},
   "outputs": [],
   "source": [
    "day_list_2 = []\n",
    "month_list_2 = []\n",
    "\n",
    "year_month_list = []\n",
    "year_month_day_list = []\n",
    "\n",
    "\n",
    "for i in range(0, len(day_list)):\n",
    "    if int(day_list[i]) < 10:\n",
    "        day_list_2.append(\"0\" + str(day_list[i]))\n",
    "    else:\n",
    "        day_list_2.append(str(day_list[i]))\n",
    "        \n",
    "for i in range(0, len(month_list)):\n",
    "    if int(month_list[i]) < 10:\n",
    "        month_list_2.append(\"0\" + str(month_list[i]))\n",
    "    else:\n",
    "        month_list_2.append(str(month_list[i]))\n",
    "        \n",
    "\n",
    "        \n",
    "for i in range(0, len(month_list_2)):\n",
    "    year_month_list.append(str(year_list[i])+str(month_list_2[i]))\n",
    "    year_month_day_list.append(str(year_list[i])+str(month_list_2[i])+str(day_list_2[i]))\n",
    "        \n",
    "#print(year_month_day_list)\n",
    "\n",
    "\n",
    "#print(day_list)\n",
    "\n",
    "\n",
    "sentiment_list = []\n",
    "\n",
    "\n",
    "\n",
    "\n",
    "for i in range(0, len(headline_list)):\n",
    "    sentiment_list.append(sentiment_scores(headline_list[i]))"
   ]
  },
  {
   "cell_type": "code",
   "execution_count": 37,
   "id": "16e398be",
   "metadata": {},
   "outputs": [],
   "source": [
    "\n",
    "#print(len(list(dict.fromkeys(headline_list))))\n",
    "    \n",
    "\n"
   ]
  },
  {
   "cell_type": "code",
   "execution_count": 23,
   "id": "85387c68",
   "metadata": {},
   "outputs": [
    {
     "data": {
      "text/plain": [
       "1349"
      ]
     },
     "execution_count": 23,
     "metadata": {},
     "output_type": "execute_result"
    }
   ],
   "source": [
    "len(link_list)"
   ]
  },
  {
   "cell_type": "code",
   "execution_count": 24,
   "id": "cc34c909",
   "metadata": {},
   "outputs": [],
   "source": [
    "\n",
    "\n",
    "text_analysis_df = pd.DataFrame({'year': year_list, 'month': month_list, 'day': day_list, 'year_month':year_month_list, 'year_month_day': year_month_day_list, 'healine': headline_list, 'link': link_list, 'sentiment': sentiment_list})  \n",
    "\n"
   ]
  },
  {
   "cell_type": "code",
   "execution_count": 25,
   "id": "5f9747e9",
   "metadata": {},
   "outputs": [],
   "source": [
    "#text_analysis_df['year_month_day']['20180106']\n",
    "\n",
    "\n",
    "#remove dulpicate\n",
    "\n",
    "text_analysis_df = text_analysis_df.drop_duplicates(subset =\"healine\", keep = 'first')"
   ]
  },
  {
   "cell_type": "code",
   "execution_count": 26,
   "id": "fc1be5b9",
   "metadata": {},
   "outputs": [
    {
     "data": {
      "text/html": [
       "<div>\n",
       "<style scoped>\n",
       "    .dataframe tbody tr th:only-of-type {\n",
       "        vertical-align: middle;\n",
       "    }\n",
       "\n",
       "    .dataframe tbody tr th {\n",
       "        vertical-align: top;\n",
       "    }\n",
       "\n",
       "    .dataframe thead th {\n",
       "        text-align: right;\n",
       "    }\n",
       "</style>\n",
       "<table border=\"1\" class=\"dataframe\">\n",
       "  <thead>\n",
       "    <tr style=\"text-align: right;\">\n",
       "      <th></th>\n",
       "      <th>year</th>\n",
       "      <th>month</th>\n",
       "      <th>day</th>\n",
       "      <th>year_month</th>\n",
       "      <th>year_month_day</th>\n",
       "      <th>healine</th>\n",
       "      <th>link</th>\n",
       "      <th>sentiment</th>\n",
       "    </tr>\n",
       "  </thead>\n",
       "  <tbody>\n",
       "    <tr>\n",
       "      <th>0</th>\n",
       "      <td>2022</td>\n",
       "      <td>8</td>\n",
       "      <td>25</td>\n",
       "      <td>202208</td>\n",
       "      <td>20220825</td>\n",
       "      <td>Bitcoin (BTC), Ethereum (ETH) Volatility Leads...</td>\n",
       "      <td>https://www.bloomberg.com/news/articles/2022-0...</td>\n",
       "      <td>0.0000</td>\n",
       "    </tr>\n",
       "    <tr>\n",
       "      <th>1</th>\n",
       "      <td>2022</td>\n",
       "      <td>8</td>\n",
       "      <td>25</td>\n",
       "      <td>202208</td>\n",
       "      <td>20220825</td>\n",
       "      <td>Bitcoin, Ethereum Technical Analysis: ETH Back...</td>\n",
       "      <td>https://news.bitcoin.com/bitcoin-ethereum-tech...</td>\n",
       "      <td>0.0000</td>\n",
       "    </tr>\n",
       "    <tr>\n",
       "      <th>2</th>\n",
       "      <td>2022</td>\n",
       "      <td>8</td>\n",
       "      <td>25</td>\n",
       "      <td>202208</td>\n",
       "      <td>20220825</td>\n",
       "      <td>Bitcoin Bearish Signal: Miners Continue To Dump</td>\n",
       "      <td>https://www.newsbtc.com/news/bitcoin/bitcoin-b...</td>\n",
       "      <td>-0.3818</td>\n",
       "    </tr>\n",
       "    <tr>\n",
       "      <th>3</th>\n",
       "      <td>2022</td>\n",
       "      <td>8</td>\n",
       "      <td>25</td>\n",
       "      <td>202208</td>\n",
       "      <td>20220825</td>\n",
       "      <td>Analysis: The $885 million Bitcoin Depot SPAC ...</td>\n",
       "      <td>https://www.ledgerinsights.com/analysis-the-88...</td>\n",
       "      <td>0.0000</td>\n",
       "    </tr>\n",
       "    <tr>\n",
       "      <th>4</th>\n",
       "      <td>2022</td>\n",
       "      <td>8</td>\n",
       "      <td>25</td>\n",
       "      <td>202208</td>\n",
       "      <td>20220825</td>\n",
       "      <td>Bitcoin Depot to list in the U.S. through $885...</td>\n",
       "      <td>https://www.reuters.com/markets/deals/bitcoin-...</td>\n",
       "      <td>0.0000</td>\n",
       "    </tr>\n",
       "    <tr>\n",
       "      <th>...</th>\n",
       "      <td>...</td>\n",
       "      <td>...</td>\n",
       "      <td>...</td>\n",
       "      <td>...</td>\n",
       "      <td>...</td>\n",
       "      <td>...</td>\n",
       "      <td>...</td>\n",
       "      <td>...</td>\n",
       "    </tr>\n",
       "    <tr>\n",
       "      <th>1344</th>\n",
       "      <td>2022</td>\n",
       "      <td>8</td>\n",
       "      <td>31</td>\n",
       "      <td>202208</td>\n",
       "      <td>20220831</td>\n",
       "      <td>Bitcoin Price Chart May Signal End to Selloff,...</td>\n",
       "      <td>https://www.inferse.com/197765/bitcoin-price-c...</td>\n",
       "      <td>0.0000</td>\n",
       "    </tr>\n",
       "    <tr>\n",
       "      <th>1345</th>\n",
       "      <td>2022</td>\n",
       "      <td>8</td>\n",
       "      <td>31</td>\n",
       "      <td>202208</td>\n",
       "      <td>20220831</td>\n",
       "      <td>Crypto will become an inflation hedge — just n...</td>\n",
       "      <td>https://techbullion.com/crypto-will-become-an-...</td>\n",
       "      <td>0.0000</td>\n",
       "    </tr>\n",
       "    <tr>\n",
       "      <th>1346</th>\n",
       "      <td>2022</td>\n",
       "      <td>8</td>\n",
       "      <td>31</td>\n",
       "      <td>202208</td>\n",
       "      <td>20220831</td>\n",
       "      <td>Singapore Considers Stricter Rules for Retail ...</td>\n",
       "      <td>https://www.inferse.com/197692/singapore-consi...</td>\n",
       "      <td>0.0000</td>\n",
       "    </tr>\n",
       "    <tr>\n",
       "      <th>1347</th>\n",
       "      <td>2022</td>\n",
       "      <td>8</td>\n",
       "      <td>31</td>\n",
       "      <td>202208</td>\n",
       "      <td>20220831</td>\n",
       "      <td>Pimride (PIM) Is Now Available for Trading on ...</td>\n",
       "      <td>https://www.livebitcoinnews.com/pimride-pim-is...</td>\n",
       "      <td>0.0000</td>\n",
       "    </tr>\n",
       "    <tr>\n",
       "      <th>1348</th>\n",
       "      <td>2022</td>\n",
       "      <td>8</td>\n",
       "      <td>31</td>\n",
       "      <td>202208</td>\n",
       "      <td>20220831</td>\n",
       "      <td>What You Need to Know About Running a Cryptocu...</td>\n",
       "      <td>https://www.imcgrupo.com/what-you-need-to-know...</td>\n",
       "      <td>0.0000</td>\n",
       "    </tr>\n",
       "  </tbody>\n",
       "</table>\n",
       "<p>1311 rows × 8 columns</p>\n",
       "</div>"
      ],
      "text/plain": [
       "      year  month  day year_month year_month_day  \\\n",
       "0     2022      8   25     202208       20220825   \n",
       "1     2022      8   25     202208       20220825   \n",
       "2     2022      8   25     202208       20220825   \n",
       "3     2022      8   25     202208       20220825   \n",
       "4     2022      8   25     202208       20220825   \n",
       "...    ...    ...  ...        ...            ...   \n",
       "1344  2022      8   31     202208       20220831   \n",
       "1345  2022      8   31     202208       20220831   \n",
       "1346  2022      8   31     202208       20220831   \n",
       "1347  2022      8   31     202208       20220831   \n",
       "1348  2022      8   31     202208       20220831   \n",
       "\n",
       "                                                healine  \\\n",
       "0     Bitcoin (BTC), Ethereum (ETH) Volatility Leads...   \n",
       "1     Bitcoin, Ethereum Technical Analysis: ETH Back...   \n",
       "2       Bitcoin Bearish Signal: Miners Continue To Dump   \n",
       "3     Analysis: The $885 million Bitcoin Depot SPAC ...   \n",
       "4     Bitcoin Depot to list in the U.S. through $885...   \n",
       "...                                                 ...   \n",
       "1344  Bitcoin Price Chart May Signal End to Selloff,...   \n",
       "1345  Crypto will become an inflation hedge — just n...   \n",
       "1346  Singapore Considers Stricter Rules for Retail ...   \n",
       "1347  Pimride (PIM) Is Now Available for Trading on ...   \n",
       "1348  What You Need to Know About Running a Cryptocu...   \n",
       "\n",
       "                                                   link  sentiment  \n",
       "0     https://www.bloomberg.com/news/articles/2022-0...     0.0000  \n",
       "1     https://news.bitcoin.com/bitcoin-ethereum-tech...     0.0000  \n",
       "2     https://www.newsbtc.com/news/bitcoin/bitcoin-b...    -0.3818  \n",
       "3     https://www.ledgerinsights.com/analysis-the-88...     0.0000  \n",
       "4     https://www.reuters.com/markets/deals/bitcoin-...     0.0000  \n",
       "...                                                 ...        ...  \n",
       "1344  https://www.inferse.com/197765/bitcoin-price-c...     0.0000  \n",
       "1345  https://techbullion.com/crypto-will-become-an-...     0.0000  \n",
       "1346  https://www.inferse.com/197692/singapore-consi...     0.0000  \n",
       "1347  https://www.livebitcoinnews.com/pimride-pim-is...     0.0000  \n",
       "1348  https://www.imcgrupo.com/what-you-need-to-know...     0.0000  \n",
       "\n",
       "[1311 rows x 8 columns]"
      ]
     },
     "execution_count": 26,
     "metadata": {},
     "output_type": "execute_result"
    }
   ],
   "source": [
    "len(text_analysis_df)\n",
    "\n",
    "text_analysis_df"
   ]
  },
  {
   "cell_type": "code",
   "execution_count": 27,
   "id": "89b308e0",
   "metadata": {
    "scrolled": true
   },
   "outputs": [
    {
     "name": "stdout",
     "output_type": "stream",
     "text": [
      "year_month\n",
      "202208    0.000066\n",
      "Name: sentiment, dtype: float64\n"
     ]
    }
   ],
   "source": [
    "\n",
    "\n",
    "#(text_analysis_df['sentiment'])\n",
    "\n",
    "\n",
    "gp_year_month_day = text_analysis_df.groupby('year_month_day')['sentiment'].mean()\n",
    "\n",
    "gp_year_month = text_analysis_df.groupby('year_month')['sentiment'].mean()\n",
    "\n",
    "\n",
    "\n",
    "#print(gp_year_month_day)\n",
    "\n",
    "print(gp_year_month)\n",
    "\n",
    "#gp.size().sort_values(ascending=False)\n"
   ]
  },
  {
   "cell_type": "code",
   "execution_count": 28,
   "id": "9d9ddace",
   "metadata": {},
   "outputs": [],
   "source": [
    "\n",
    "\n",
    "\n",
    "#export csv file\n",
    "\n",
    "text_analysis_df.to_csv('bitcoin_news_2022_Aug_2.csv', index = False)\n"
   ]
  },
  {
   "cell_type": "code",
   "execution_count": null,
   "id": "d77e7c13",
   "metadata": {},
   "outputs": [],
   "source": []
  }
 ],
 "metadata": {
  "kernelspec": {
   "display_name": "Python 3 (ipykernel)",
   "language": "python",
   "name": "python3"
  },
  "language_info": {
   "codemirror_mode": {
    "name": "ipython",
    "version": 3
   },
   "file_extension": ".py",
   "mimetype": "text/x-python",
   "name": "python",
   "nbconvert_exporter": "python",
   "pygments_lexer": "ipython3",
   "version": "3.9.7"
  }
 },
 "nbformat": 4,
 "nbformat_minor": 5
}
